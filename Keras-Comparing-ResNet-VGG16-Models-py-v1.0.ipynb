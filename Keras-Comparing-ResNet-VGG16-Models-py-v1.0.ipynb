{
 "cells": [
  {
   "cell_type": "markdown",
   "metadata": {
    "button": false,
    "new_sheet": false,
    "run_control": {
     "read_only": false
    }
   },
   "source": [
    "<h1 align=center><font size = 5>ResNet50 & VGG16 Models Comparison</font></h1>"
   ]
  },
  {
   "cell_type": "markdown",
   "metadata": {
    "button": false,
    "new_sheet": false,
    "run_control": {
     "read_only": false
    }
   },
   "source": [
    "In this lab, you will build an image classifier using the VGG16 pre-trained model, and you will evaluate it and compare its performance to the model we built in the last module using the ResNet50 pre-trained model. Good luck!"
   ]
  },
  {
   "cell_type": "markdown",
   "metadata": {
    "button": false,
    "new_sheet": false,
    "run_control": {
     "read_only": false
    }
   },
   "source": [
    "## Table of Contents\n",
    "\n",
    "<div class=\"alert alert-block alert-info\" style=\"margin-top: 20px\">\n",
    "\n",
    "<font size = 3>    \n",
    "\n",
    "1. <a href=\"#item41\">Download Data \n",
    "2. <a href=\"#item43\">Part 1</a>  \n",
    "3. <a href=\"#item44\">Part 2</a>  \n",
    "\n",
    "</font>\n",
    "    \n",
    "</div>"
   ]
  },
  {
   "cell_type": "markdown",
   "metadata": {
    "button": false,
    "new_sheet": false,
    "run_control": {
     "read_only": false
    }
   },
   "source": [
    "   "
   ]
  },
  {
   "cell_type": "markdown",
   "metadata": {},
   "source": [
    "<a id=\"item41\"></a>"
   ]
  },
  {
   "cell_type": "markdown",
   "metadata": {},
   "source": [
    "## Download Data"
   ]
  },
  {
   "cell_type": "markdown",
   "metadata": {},
   "source": [
    "Dataset link: https://s3-api.us-geo.objectstorage.softlayer.net/cf-courses-data/CognitiveClass/DL0321EN/data/concrete_data_week4.zip"
   ]
  },
  {
   "cell_type": "code",
   "execution_count": 46,
   "metadata": {},
   "outputs": [],
   "source": [
    "# # unzip files\n",
    "import zipfile\n",
    "with zipfile.ZipFile('PYTHON_CODE/data/concrete_data_week4.zip', 'r') as zip_ref:\n",
    "    zip_ref.extractall('PYTHON_CODE/data')"
   ]
  },
  {
   "cell_type": "markdown",
   "metadata": {},
   "source": [
    "After you unzip the data, you fill find the data has already been divided into a train, validation, and test sets."
   ]
  },
  {
   "cell_type": "markdown",
   "metadata": {},
   "source": [
    "  "
   ]
  },
  {
   "cell_type": "markdown",
   "metadata": {},
   "source": [
    "<a id=\"item43\"></a>"
   ]
  },
  {
   "cell_type": "markdown",
   "metadata": {},
   "source": [
    "## Part 1"
   ]
  },
  {
   "cell_type": "markdown",
   "metadata": {},
   "source": [
    "In this part, we will evaluate deep learning models on a test data.\n",
    "\n",
    "1. Load the saved model that was built using the ResNet50 model. \n",
    "2. Construct an ImageDataGenerator for the test set. Set the **shuffle** parameter to False.\n",
    "3. Use the **evaluate()** method to evaluate your models on the test data, by passing the above ImageDataGenerator as an argument.\n",
    "4. Print the performance of the classifier using the VGG16 pre-trained model.\n",
    "5. Print the performance of the classifier using the ResNet pre-trained model.\n"
   ]
  },
  {
   "cell_type": "code",
   "execution_count": 14,
   "metadata": {
    "scrolled": true
   },
   "outputs": [
    {
     "name": "stdout",
     "output_type": "stream",
     "text": [
      "Model: \"sequential\"\n",
      "_________________________________________________________________\n",
      " Layer (type)                Output Shape              Param #   \n",
      "=================================================================\n",
      " resnet50 (Functional)       (None, 2048)              23587712  \n",
      "                                                                 \n",
      " dense (Dense)               (None, 2)                 4098      \n",
      "                                                                 \n",
      "=================================================================\n",
      "Total params: 23,591,810\n",
      "Trainable params: 4,098\n",
      "Non-trainable params: 23,587,712\n",
      "_________________________________________________________________\n"
     ]
    }
   ],
   "source": [
    "# Load the saved model that was built using the ResNet50 model.\n",
    "resnetkeras_model = tf.keras.models.load_model('keras_classifier_resnet_model.h5')\n",
    "resnetkeras_model.summary()"
   ]
  },
  {
   "cell_type": "code",
   "execution_count": 16,
   "metadata": {},
   "outputs": [
    {
     "name": "stdout",
     "output_type": "stream",
     "text": [
      "Model: \"sequential\"\n",
      "_________________________________________________________________\n",
      " Layer (type)                Output Shape              Param #   \n",
      "=================================================================\n",
      " vgg16 (Functional)          (None, 512)               14714688  \n",
      "                                                                 \n",
      " dense (Dense)               (None, 2)                 1026      \n",
      "                                                                 \n",
      "=================================================================\n",
      "Total params: 14,715,714\n",
      "Trainable params: 1,026\n",
      "Non-trainable params: 14,714,688\n",
      "_________________________________________________________________\n"
     ]
    }
   ],
   "source": [
    "# Load the saved model that was built using the VGG16 model.\n",
    "vgg16keras_model = tf.keras.models.load_model('keras_classifier_vgg16_model.h5')\n",
    "vgg16keras_model.summary()"
   ]
  },
  {
   "cell_type": "code",
   "execution_count": 40,
   "metadata": {},
   "outputs": [
    {
     "name": "stdout",
     "output_type": "stream",
     "text": [
      "test generator: \n",
      "Found 500 images belonging to 2 classes.\n"
     ]
    }
   ],
   "source": [
    "# Construct an ImageDataGenerator for the test set. Set the shuffle parameter to False.\n",
    "print('test generator: ')\n",
    "test_generator = data_generator.flow_from_directory(\n",
    "    'data/concrete_data_week4/test',\n",
    "    target_size=(image_resize, image_resize),\n",
    "    batch_size=batch_size,\n",
    "    shuffle=False,\n",
    "    class_mode='categorical')"
   ]
  },
  {
   "cell_type": "code",
   "execution_count": 41,
   "metadata": {},
   "outputs": [
    {
     "name": "stdout",
     "output_type": "stream",
     "text": [
      "5/5 [==============================] - 60s 12s/step - loss: 0.0023 - accuracy: 1.0000\n",
      "evaluate accuracy: 100.00%\n"
     ]
    }
   ],
   "source": [
    "# Use the evaluate() method to evaluate your models on the test data, by passing the above ImageDataGenerator as an argument.\n",
    "r_scores = resnetkeras_model.evaluate(test_generator)\n",
    "print(\"%s%s: %.2f%%\" % (\"evaluate \",resnetkeras_model.metrics_names[1], r_scores[1]*100))"
   ]
  },
  {
   "cell_type": "code",
   "execution_count": 42,
   "metadata": {},
   "outputs": [
    {
     "name": "stdout",
     "output_type": "stream",
     "text": [
      "5/5 [==============================] - 146s 30s/step - loss: 0.0185 - accuracy: 0.9960\n",
      "evaluate accuracy: 99.60%\n"
     ]
    }
   ],
   "source": [
    "# the performance of the classifier using the VGG16 pre-trained model.\n",
    "v_scores = vgg16keras_model.evaluate(test_generator)\n",
    "print(\"%s%s: %.2f%%\" % (\"evaluate \",vgg16keras_model.metrics_names[1], v_scores[1]*100))"
   ]
  },
  {
   "cell_type": "markdown",
   "metadata": {},
   "source": [
    "As results shown above, both ResNet50 and VGG16 pretrained model have excellent scores, however the accuracy of VGG26 model is slightly lower than that of ResNet50 model"
   ]
  },
  {
   "cell_type": "markdown",
   "metadata": {},
   "source": [
    "   "
   ]
  },
  {
   "cell_type": "markdown",
   "metadata": {},
   "source": [
    "<a id=\"item44\"></a>"
   ]
  },
  {
   "cell_type": "markdown",
   "metadata": {},
   "source": [
    "## Part 3"
   ]
  },
  {
   "cell_type": "markdown",
   "metadata": {},
   "source": [
    "In this part, we will predict whether the images in the test data are images of cracked concrete or not. "
   ]
  },
  {
   "cell_type": "markdown",
   "metadata": {},
   "source": [
    "1. Use the **predict()** method to predict the class of the images in the test data, by passing the test data ImageDataGenerator instance defined in the previous part as an argument.\n",
    "2. Report the class predictions of the first ten images in the test set. "
   ]
  },
  {
   "cell_type": "markdown",
   "metadata": {},
   "source": [
    "ResNet50 predicted labels of the first ten images"
   ]
  },
  {
   "cell_type": "code",
   "execution_count": 51,
   "metadata": {},
   "outputs": [
    {
     "name": "stdout",
     "output_type": "stream",
     "text": [
      "Sample 1: Negative\n",
      "Sample 2: Negative\n",
      "Sample 3: Negative\n",
      "Sample 4: Negative\n",
      "Sample 5: Negative\n",
      "Sample 6: Negative\n",
      "Sample 7: Negative\n",
      "Sample 8: Negative\n",
      "Sample 9: Negative\n",
      "Sample 10: Negative\n"
     ]
    }
   ],
   "source": [
    "results = resnetkeras_model.predict(test_generator)\n",
    "i = 1\n",
    "for y_pred in results[:10]:\n",
    "    label = pd.Series(y_pred).idxmax()\n",
    "    print(f'Sample {i}:','Positive' if label == 1 else 'Negative')\n",
    "    i += 1"
   ]
  },
  {
   "cell_type": "markdown",
   "metadata": {},
   "source": [
    "VGG16 predicted labels of the first ten images"
   ]
  },
  {
   "cell_type": "code",
   "execution_count": 52,
   "metadata": {},
   "outputs": [
    {
     "name": "stdout",
     "output_type": "stream",
     "text": [
      "Sample 1: Negative\n",
      "Sample 2: Negative\n",
      "Sample 3: Negative\n",
      "Sample 4: Negative\n",
      "Sample 5: Negative\n",
      "Sample 6: Negative\n",
      "Sample 7: Negative\n",
      "Sample 8: Negative\n",
      "Sample 9: Negative\n",
      "Sample 10: Negative\n"
     ]
    }
   ],
   "source": [
    "results = vgg16keras_model.predict(test_generator)\n",
    "i = 1\n",
    "for y_pred in results[:10]:\n",
    "    label = pd.Series(y_pred).idxmax()\n",
    "    print(f'Sample {i}:','Positive' if label == 1 else 'Negative')\n",
    "    i += 1"
   ]
  },
  {
   "cell_type": "markdown",
   "metadata": {},
   "source": [
    "Actual class"
   ]
  },
  {
   "cell_type": "code",
   "execution_count": 53,
   "metadata": {},
   "outputs": [
    {
     "name": "stdout",
     "output_type": "stream",
     "text": [
      "Sample 1: Negative\n",
      "Sample 2: Negative\n",
      "Sample 3: Negative\n",
      "Sample 4: Negative\n",
      "Sample 5: Negative\n",
      "Sample 6: Negative\n",
      "Sample 7: Negative\n",
      "Sample 8: Negative\n",
      "Sample 9: Negative\n",
      "Sample 10: Negative\n"
     ]
    }
   ],
   "source": [
    "i = 1\n",
    "for x,y in test_generator:\n",
    "    for j in y[:10]:\n",
    "        label = pd.Series(j).idxmax()\n",
    "        print(f'Sample {i}:','Positive' if label == 1 else 'Negative')\n",
    "        i += 1\n",
    "    if i >= 1:\n",
    "        break"
   ]
  },
  {
   "cell_type": "markdown",
   "metadata": {},
   "source": [
    "Both models correctly predicted the classes for the first 10 samples"
   ]
  },
  {
   "cell_type": "markdown",
   "metadata": {},
   "source": [
    "## Conclusion"
   ]
  },
  {
   "cell_type": "markdown",
   "metadata": {},
   "source": [
    "In conclusion, for this particular concrete dataset, ResNet50 model is a better choice for two things:\n",
    "- First, ResNet50 model had less fitting time\n",
    "- Second, ResNet50 model had better accuracy than VGG16"
   ]
  },
  {
   "cell_type": "markdown",
   "metadata": {},
   "source": [
    "  "
   ]
  }
 ],
 "metadata": {
  "kernelspec": {
   "display_name": "Python 3 (ipykernel)",
   "language": "python",
   "name": "python3"
  },
  "language_info": {
   "codemirror_mode": {
    "name": "ipython",
    "version": 3
   },
   "file_extension": ".py",
   "mimetype": "text/x-python",
   "name": "python",
   "nbconvert_exporter": "python",
   "pygments_lexer": "ipython3",
   "version": "3.9.7"
  }
 },
 "nbformat": 4,
 "nbformat_minor": 4
}
